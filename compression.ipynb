{
  "nbformat": 4,
  "nbformat_minor": 0,
  "metadata": {
    "colab": {
      "name": "downloaded.ipynb",
      "provenance": [],
      "collapsed_sections": [],
      "authorship_tag": "ABX9TyMLOnm2+d1b4riCWbF3gxGN",
      "include_colab_link": true
    },
    "kernelspec": {
      "name": "python3",
      "display_name": "Python 3"
    }
  },
  "cells": [
    {
      "cell_type": "markdown",
      "metadata": {
        "id": "view-in-github",
        "colab_type": "text"
      },
      "source": [
        "<a href=\"https://colab.research.google.com/github/Arvinth-s/SortNebula/blob/master/compression.ipynb\" target=\"_parent\"><img src=\"https://colab.research.google.com/assets/colab-badge.svg\" alt=\"Open In Colab\"/></a>"
      ]
    },
    {
      "cell_type": "code",
      "metadata": {
        "id": "wE27h-tNlkow"
      },
      "source": [
        "#OM NAMO NARAYANA"
      ],
      "execution_count": 1,
      "outputs": []
    },
    {
      "cell_type": "code",
      "metadata": {
        "id": "lE8IeINLBxg9"
      },
      "source": [
        "#http://silver.nitt.edu/~esgopi/Videolectures/C.STATISTICAL_THEORY_OF_COMMUNICATION/Neyman-pearson.mp4\n",
        "#http://silver.nitt.edu/~esgopi/Videolectures/B.LINEAR_ALGEBRA_AND_STOCHASTIC_PROCESS/PR_Casestudy2:AWGN_model+Rayleigh%20channel%20model.mp4\n",
        "#http://silver.nitt.edu/~esgopi/Videolectures/B.LINEAR_ALGEBRA_AND_STOCHASTIC_PROCESS/PR_Casestudy6:MMSE,MMAE,MAP.mp4"
      ],
      "execution_count": null,
      "outputs": []
    },
    {
      "cell_type": "code",
      "metadata": {
        "id": "6vkF12iGtPMA",
        "outputId": "206d86d3-7beb-4e4b-87bb-d12ade4bb812",
        "colab": {
          "base_uri": "https://localhost:8080/"
        }
      },
      "source": [
        "import os\n",
        "# os.chdir('/media')\n",
        "os.listdir()"
      ],
      "execution_count": 2,
      "outputs": [
        {
          "output_type": "execute_result",
          "data": {
            "text/plain": [
              "['.config', 'PR', 'sample_data']"
            ]
          },
          "metadata": {
            "tags": []
          },
          "execution_count": 2
        }
      ]
    },
    {
      "cell_type": "code",
      "metadata": {
        "id": "D02lqYRrtPud"
      },
      "source": [
        "# !mkdir 'PR'"
      ],
      "execution_count": 3,
      "outputs": []
    },
    {
      "cell_type": "code",
      "metadata": {
        "id": "6iDMJbRJuU51",
        "outputId": "746c8fb6-57fb-40dc-bb36-beb7076782e3",
        "colab": {
          "base_uri": "https://localhost:8080/"
        }
      },
      "source": [
        "# !cd ./PR-Videos/\n",
        "os.chdir('PR')\n",
        "os.listdir()"
      ],
      "execution_count": 4,
      "outputs": [
        {
          "output_type": "execute_result",
          "data": {
            "text/plain": [
              "[]"
            ]
          },
          "metadata": {
            "tags": []
          },
          "execution_count": 4
        }
      ]
    },
    {
      "cell_type": "code",
      "metadata": {
        "id": "HwUAOD9nRSD_",
        "outputId": "a725b4b4-90fb-423c-de38-5bf6dd48103e",
        "colab": {
          "base_uri": "https://localhost:8080/"
        }
      },
      "source": [
        "url = input('url:')\n",
        "fileName = input('save as:')"
      ],
      "execution_count": 5,
      "outputs": [
        {
          "output_type": "stream",
          "text": [
            "url:http://silver.nitt.edu/~esgopi/Videolectures/B.LINEAR_ALGEBRA_AND_STOCHASTIC_PROCESS/RP:Casestudy2:LINEAR_FILTER.mp4\n",
            "save as:caseStudy2\n"
          ],
          "name": "stdout"
        }
      ]
    },
    {
      "cell_type": "code",
      "metadata": {
        "id": "eLl0QmZyADM6",
        "outputId": "07d3ffc0-616c-4dda-b1cb-ca905b73c738",
        "colab": {
          "base_uri": "https://localhost:8080/"
        }
      },
      "source": [
        "fname = url.split('/')\n",
        "fname = fname[-1]\n",
        "print(fname)\n",
        "fname = fname[:-1]\n",
        "print(fname)"
      ],
      "execution_count": 13,
      "outputs": [
        {
          "output_type": "stream",
          "text": [
            "RP:Casestudy2:LINEAR_FILTER.mp4\"\n",
            "RP:Casestudy2:LINEAR_FILTER.mp4\n"
          ],
          "name": "stdout"
        }
      ]
    },
    {
      "cell_type": "code",
      "metadata": {
        "id": "kGZRH0PSu49d",
        "outputId": "2e9b0b5b-a6fd-42af-bd41-a57038660ebb",
        "colab": {
          "base_uri": "https://localhost:8080/"
        }
      },
      "source": [
        "url = \"\\\"\" + url + \"\\\"\"\n",
        "!wget \"{url}\""
      ],
      "execution_count": 6,
      "outputs": [
        {
          "output_type": "stream",
          "text": [
            "--2020-11-04 06:42:25--  http://silver.nitt.edu/~esgopi/Videolectures/B.LINEAR_ALGEBRA_AND_STOCHASTIC_PROCESS/RP:Casestudy2:LINEAR_FILTER.mp4\n",
            "Resolving silver.nitt.edu (silver.nitt.edu)... 203.129.195.160, 14.139.162.160\n",
            "Connecting to silver.nitt.edu (silver.nitt.edu)|203.129.195.160|:80... connected.\n",
            "HTTP request sent, awaiting response... 200 OK\n",
            "Length: 1667262203 (1.6G) [video/mp4]\n",
            "Saving to: ‘RP:Casestudy2:LINEAR_FILTER.mp4’\n",
            "\n",
            "RP:Casestudy2:LINEA 100%[===================>]   1.55G  1.10MB/s    in 25m 1s  \n",
            "\n",
            "2020-11-04 07:07:26 (1.06 MB/s) - ‘RP:Casestudy2:LINEAR_FILTER.mp4’ saved [1667262203/1667262203]\n",
            "\n"
          ],
          "name": "stdout"
        }
      ]
    },
    {
      "cell_type": "code",
      "metadata": {
        "id": "3xXQ6RyCvZqf"
      },
      "source": [
        "import moviepy.editor as mp"
      ],
      "execution_count": 17,
      "outputs": []
    },
    {
      "cell_type": "code",
      "metadata": {
        "id": "bVDaxMmXP5CE",
        "outputId": "edddbf11-da86-4c71-cff0-1c87a8c9f6f3",
        "colab": {
          "base_uri": "https://localhost:8080/"
        }
      },
      "source": [
        "# !ls -a\n",
        "# assert('RP:Casestudy2:LINEAR_FILTER.mp4'==fname)\n",
        "!mv '{fname}' 'vdo.mp4'"
      ],
      "execution_count": 29,
      "outputs": [
        {
          "output_type": "stream",
          "text": [
            ".  ..  RP:Casestudy2:LINEAR_FILTER.mp4\n"
          ],
          "name": "stdout"
        }
      ]
    },
    {
      "cell_type": "code",
      "metadata": {
        "id": "QCBJvAoYONYF"
      },
      "source": [
        "# print(os.listdir())\n",
        "# print('video details: ')\n",
        "# !ls -a\n",
        "# !ffmpeg -i '{tfname}'\n",
        "# !ffprobe -v 0 -of csv=p=0 -select_streams v:0 -show_entries stream=r_frame_rate '{fname}'"
      ],
      "execution_count": null,
      "outputs": []
    },
    {
      "cell_type": "code",
      "metadata": {
        "id": "B-p8vwfeRd-R"
      },
      "source": [
        "# !ffmpeg -i 'caseStudy2.mp4' -b 250k 'LINEAR_FILTER.mp4'"
      ],
      "execution_count": null,
      "outputs": []
    },
    {
      "cell_type": "code",
      "metadata": {
        "id": "Gr_jRpoVSD0B"
      },
      "source": [
        "# !mv 'caseStudy2' 'caseStudy2.mp4'"
      ],
      "execution_count": 36,
      "outputs": []
    },
    {
      "cell_type": "code",
      "metadata": {
        "id": "75kLdEtZ6JRl"
      },
      "source": [
        "clip = mp.VideoFileClip('vdo.mp4')\n",
        "clip_resized = clip.resize(height=360) # make the height 360px ( According to moviePy documenation The width is then computed so that the width/height ratio is conserved.)"
      ],
      "execution_count": 38,
      "outputs": []
    },
    {
      "cell_type": "code",
      "metadata": {
        "id": "WqrEXltq6Qrh",
        "outputId": "375f8483-6329-4881-ba92-1f81efbc7d0a",
        "colab": {
          "base_uri": "https://localhost:8080/"
        }
      },
      "source": [
        "from google.colab import drive\n",
        "drive.flush_and_unmount()\n",
        "drive.mount('/content/drive')"
      ],
      "execution_count": 39,
      "outputs": [
        {
          "output_type": "stream",
          "text": [
            "Drive not mounted, so nothing to flush and unmount.\n",
            "Mounted at /content/drive\n"
          ],
          "name": "stdout"
        }
      ]
    },
    {
      "cell_type": "code",
      "metadata": {
        "id": "7HIuZXZy6y3W",
        "outputId": "fd20a1bc-351a-43e0-d8b2-bda199bd5f12",
        "colab": {
          "base_uri": "https://localhost:8080/"
        }
      },
      "source": [
        "target_dir = '/content/drive/My Drive/PR/'\n",
        "clip_resized.write_videofile(target_dir + fileName + '.mp4')"
      ],
      "execution_count": null,
      "outputs": [
        {
          "output_type": "stream",
          "text": [
            "[MoviePy] >>>> Building video /content/drive/My Drive/PR/caseStudy2.mp4\n",
            "[MoviePy] Writing audio in caseStudy2TEMP_MPY_wvf_snd.mp3\n"
          ],
          "name": "stdout"
        },
        {
          "output_type": "stream",
          "text": [
            "100%|██████████| 116836/116836 [01:56<00:00, 1002.89it/s]"
          ],
          "name": "stderr"
        },
        {
          "output_type": "stream",
          "text": [
            "[MoviePy] Done.\n",
            "[MoviePy] Writing video /content/drive/My Drive/PR/caseStudy2.mp4\n"
          ],
          "name": "stdout"
        },
        {
          "output_type": "stream",
          "text": [
            "\n",
            " 97%|█████████▋| 154684/158960 [1:09:20<01:48, 39.52it/s]"
          ],
          "name": "stderr"
        }
      ]
    },
    {
      "cell_type": "code",
      "metadata": {
        "id": "dMHBJ5407Vwv"
      },
      "source": [
        ""
      ],
      "execution_count": null,
      "outputs": []
    }
  ]
}